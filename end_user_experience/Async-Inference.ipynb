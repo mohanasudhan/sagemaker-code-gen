{
 "cells": [
  {
   "cell_type": "code",
   "execution_count": 1,
   "outputs": [],
   "source": [
    "!python -m pip install --upgrade pip --quiet\n",
    "!pip install -U awscli --quiet"
   ],
   "metadata": {
    "collapsed": false,
    "ExecuteTime": {
     "end_time": "2024-05-29T02:01:16.888768Z",
     "start_time": "2024-05-29T02:01:14.162341Z"
    }
   },
   "id": "90e40fb597072441"
  },
  {
   "cell_type": "code",
   "execution_count": 2,
   "id": "initial_id",
   "metadata": {
    "collapsed": true,
    "ExecuteTime": {
     "end_time": "2024-05-29T02:01:21.197685Z",
     "start_time": "2024-05-29T02:01:16.890673Z"
    }
   },
   "outputs": [
    {
     "name": "stdout",
     "output_type": "stream",
     "text": [
      "sagemaker.config INFO - Not applying SDK defaults from location: /Library/Application Support/sagemaker/config.yaml\n",
      "sagemaker.config INFO - Not applying SDK defaults from location: /Users/nargokul/Library/Application Support/sagemaker/config.yaml\n"
     ]
    }
   ],
   "source": [
    "from sagemaker import get_execution_role\n",
    "import sagemaker\n",
    "import boto3\n",
    "import os\n",
    "\n",
    "boto_session = boto3.session.Session()\n",
    "sm_session = sagemaker.session.Session()\n",
    "region = boto_session.region_name\n",
    "sm_client = boto_session.client(\"sagemaker\")\n",
    "role = get_execution_role()\n",
    "s3_bucket = sm_session.default_bucket()"
   ]
  },
  {
   "cell_type": "code",
   "execution_count": 2,
   "outputs": [],
   "source": [],
   "metadata": {
    "collapsed": false,
    "ExecuteTime": {
     "end_time": "2024-05-29T02:01:21.212714Z",
     "start_time": "2024-05-29T02:01:21.204512Z"
    }
   },
   "id": "d981ab578fcbf793"
  },
  {
   "cell_type": "code",
   "execution_count": 3,
   "outputs": [
    {
     "name": "stderr",
     "output_type": "stream",
     "text": [
      "/Users/nargokul/workspace/sagemaker-code-gen/venv/lib/python3.9/site-packages/pydantic/_internal/_fields.py:160: UserWarning: Field \"model_access_config\" has conflict with protected namespace \"model_\".\n",
      "\n",
      "You may be able to resolve this warning by setting `model_config['protected_namespaces'] = ()`.\n",
      "  warnings.warn(\n",
      "/Users/nargokul/workspace/sagemaker-code-gen/venv/lib/python3.9/site-packages/pydantic/_internal/_fields.py:160: UserWarning: Field \"model_data_url\" has conflict with protected namespace \"model_\".\n",
      "\n",
      "You may be able to resolve this warning by setting `model_config['protected_namespaces'] = ()`.\n",
      "  warnings.warn(\n",
      "/Users/nargokul/workspace/sagemaker-code-gen/venv/lib/python3.9/site-packages/pydantic/_internal/_fields.py:160: UserWarning: Field \"model_data_source\" has conflict with protected namespace \"model_\".\n",
      "\n",
      "You may be able to resolve this warning by setting `model_config['protected_namespaces'] = ()`.\n",
      "  warnings.warn(\n",
      "/Users/nargokul/workspace/sagemaker-code-gen/venv/lib/python3.9/site-packages/pydantic/_internal/_fields.py:160: UserWarning: Field \"model_input\" has conflict with protected namespace \"model_\".\n",
      "\n",
      "You may be able to resolve this warning by setting `model_config['protected_namespaces'] = ()`.\n",
      "  warnings.warn(\n",
      "/Users/nargokul/workspace/sagemaker-code-gen/venv/lib/python3.9/site-packages/pydantic/_internal/_fields.py:160: UserWarning: Field \"model_insights\" has conflict with protected namespace \"model_\".\n",
      "\n",
      "You may be able to resolve this warning by setting `model_config['protected_namespaces'] = ()`.\n",
      "  warnings.warn(\n",
      "/Users/nargokul/workspace/sagemaker-code-gen/venv/lib/python3.9/site-packages/pydantic/_internal/_fields.py:160: UserWarning: Field \"model_package_group_name\" has conflict with protected namespace \"model_\".\n",
      "\n",
      "You may be able to resolve this warning by setting `model_config['protected_namespaces'] = ()`.\n",
      "  warnings.warn(\n",
      "/Users/nargokul/workspace/sagemaker-code-gen/venv/lib/python3.9/site-packages/pydantic/_internal/_fields.py:160: UserWarning: Field \"model_package_arn\" has conflict with protected namespace \"model_\".\n",
      "\n",
      "You may be able to resolve this warning by setting `model_config['protected_namespaces'] = ()`.\n",
      "  warnings.warn(\n",
      "/Users/nargokul/workspace/sagemaker-code-gen/venv/lib/python3.9/site-packages/pydantic/_internal/_fields.py:160: UserWarning: Field \"model_package_status\" has conflict with protected namespace \"model_\".\n",
      "\n",
      "You may be able to resolve this warning by setting `model_config['protected_namespaces'] = ()`.\n",
      "  warnings.warn(\n",
      "/Users/nargokul/workspace/sagemaker-code-gen/venv/lib/python3.9/site-packages/pydantic/_internal/_fields.py:160: UserWarning: Field \"model_package_version\" has conflict with protected namespace \"model_\".\n",
      "\n",
      "You may be able to resolve this warning by setting `model_config['protected_namespaces'] = ()`.\n",
      "  warnings.warn(\n",
      "/Users/nargokul/workspace/sagemaker-code-gen/venv/lib/python3.9/site-packages/pydantic/_internal/_fields.py:160: UserWarning: Field \"model_package_description\" has conflict with protected namespace \"model_\".\n",
      "\n",
      "You may be able to resolve this warning by setting `model_config['protected_namespaces'] = ()`.\n",
      "  warnings.warn(\n",
      "/Users/nargokul/workspace/sagemaker-code-gen/venv/lib/python3.9/site-packages/pydantic/_internal/_fields.py:160: UserWarning: Field \"model_approval_status\" has conflict with protected namespace \"model_\".\n",
      "\n",
      "You may be able to resolve this warning by setting `model_config['protected_namespaces'] = ()`.\n",
      "  warnings.warn(\n",
      "/Users/nargokul/workspace/sagemaker-code-gen/venv/lib/python3.9/site-packages/pydantic/_internal/_fields.py:200: UserWarning: Field name \"json\" in \"MonitoringDatasetFormat\" shadows an attribute in parent \"Base\"\n",
      "  warnings.warn(\n",
      "/Users/nargokul/workspace/sagemaker-code-gen/venv/lib/python3.9/site-packages/pydantic/_internal/_fields.py:160: UserWarning: Field \"model_register_settings\" has conflict with protected namespace \"model_\".\n",
      "\n",
      "You may be able to resolve this warning by setting `model_config['protected_namespaces'] = ()`.\n",
      "  warnings.warn(\n",
      "/Users/nargokul/workspace/sagemaker-code-gen/venv/lib/python3.9/site-packages/pydantic/_internal/_fields.py:160: UserWarning: Field \"model_cache_setting\" has conflict with protected namespace \"model_\".\n",
      "\n",
      "You may be able to resolve this warning by setting `model_config['protected_namespaces'] = ()`.\n",
      "  warnings.warn(\n",
      "/Users/nargokul/workspace/sagemaker-code-gen/venv/lib/python3.9/site-packages/pydantic/_internal/_fields.py:160: UserWarning: Field \"model_package_name\" has conflict with protected namespace \"model_\".\n",
      "\n",
      "You may be able to resolve this warning by setting `model_config['protected_namespaces'] = ()`.\n",
      "  warnings.warn(\n",
      "/Users/nargokul/workspace/sagemaker-code-gen/venv/lib/python3.9/site-packages/pydantic/_internal/_fields.py:160: UserWarning: Field \"model_handle\" has conflict with protected namespace \"model_\".\n",
      "\n",
      "You may be able to resolve this warning by setting `model_config['protected_namespaces'] = ()`.\n",
      "  warnings.warn(\n",
      "/Users/nargokul/workspace/sagemaker-code-gen/venv/lib/python3.9/site-packages/pydantic/_internal/_fields.py:160: UserWarning: Field \"model_name\" has conflict with protected namespace \"model_\".\n",
      "\n",
      "You may be able to resolve this warning by setting `model_config['protected_namespaces'] = ()`.\n",
      "  warnings.warn(\n",
      "/Users/nargokul/workspace/sagemaker-code-gen/venv/lib/python3.9/site-packages/pydantic/_internal/_fields.py:160: UserWarning: Field \"model_data_download_timeout_in_seconds\" has conflict with protected namespace \"model_\".\n",
      "\n",
      "You may be able to resolve this warning by setting `model_config['protected_namespaces'] = ()`.\n",
      "  warnings.warn(\n",
      "/Users/nargokul/workspace/sagemaker-code-gen/venv/lib/python3.9/site-packages/pydantic/_internal/_fields.py:160: UserWarning: Field \"model_package_version_arn\" has conflict with protected namespace \"model_\".\n",
      "\n",
      "You may be able to resolve this warning by setting `model_config['protected_namespaces'] = ()`.\n",
      "  warnings.warn(\n",
      "/Users/nargokul/workspace/sagemaker-code-gen/venv/lib/python3.9/site-packages/pydantic/_internal/_fields.py:160: UserWarning: Field \"model_latency_thresholds\" has conflict with protected namespace \"model_\".\n",
      "\n",
      "You may be able to resolve this warning by setting `model_config['protected_namespaces'] = ()`.\n",
      "  warnings.warn(\n",
      "/Users/nargokul/workspace/sagemaker-code-gen/venv/lib/python3.9/site-packages/pydantic/_internal/_fields.py:160: UserWarning: Field \"model_quality\" has conflict with protected namespace \"model_\".\n",
      "\n",
      "You may be able to resolve this warning by setting `model_config['protected_namespaces'] = ()`.\n",
      "  warnings.warn(\n",
      "/Users/nargokul/workspace/sagemaker-code-gen/venv/lib/python3.9/site-packages/pydantic/_internal/_fields.py:160: UserWarning: Field \"model_data_quality\" has conflict with protected namespace \"model_\".\n",
      "\n",
      "You may be able to resolve this warning by setting `model_config['protected_namespaces'] = ()`.\n",
      "  warnings.warn(\n",
      "/Users/nargokul/workspace/sagemaker-code-gen/venv/lib/python3.9/site-packages/pydantic/_internal/_fields.py:160: UserWarning: Field \"model_version\" has conflict with protected namespace \"model_\".\n",
      "\n",
      "You may be able to resolve this warning by setting `model_config['protected_namespaces'] = ()`.\n",
      "  warnings.warn(\n",
      "/Users/nargokul/workspace/sagemaker-code-gen/venv/lib/python3.9/site-packages/pydantic/_internal/_fields.py:160: UserWarning: Field \"model_latency\" has conflict with protected namespace \"model_\".\n",
      "\n",
      "You may be able to resolve this warning by setting `model_config['protected_namespaces'] = ()`.\n",
      "  warnings.warn(\n",
      "/Users/nargokul/workspace/sagemaker-code-gen/venv/lib/python3.9/site-packages/pydantic/_internal/_fields.py:160: UserWarning: Field \"model_setup_time\" has conflict with protected namespace \"model_\".\n",
      "\n",
      "You may be able to resolve this warning by setting `model_config['protected_namespaces'] = ()`.\n",
      "  warnings.warn(\n",
      "/Users/nargokul/workspace/sagemaker-code-gen/venv/lib/python3.9/site-packages/pydantic/_internal/_fields.py:160: UserWarning: Field \"model_configuration\" has conflict with protected namespace \"model_\".\n",
      "\n",
      "You may be able to resolve this warning by setting `model_config['protected_namespaces'] = ()`.\n",
      "  warnings.warn(\n",
      "/Users/nargokul/workspace/sagemaker-code-gen/venv/lib/python3.9/site-packages/pydantic/_internal/_fields.py:160: UserWarning: Field \"model_card_export_job_name\" has conflict with protected namespace \"model_\".\n",
      "\n",
      "You may be able to resolve this warning by setting `model_config['protected_namespaces'] = ()`.\n",
      "  warnings.warn(\n",
      "/Users/nargokul/workspace/sagemaker-code-gen/venv/lib/python3.9/site-packages/pydantic/_internal/_fields.py:160: UserWarning: Field \"model_card_export_job_arn\" has conflict with protected namespace \"model_\".\n",
      "\n",
      "You may be able to resolve this warning by setting `model_config['protected_namespaces'] = ()`.\n",
      "  warnings.warn(\n",
      "/Users/nargokul/workspace/sagemaker-code-gen/venv/lib/python3.9/site-packages/pydantic/_internal/_fields.py:160: UserWarning: Field \"model_card_name\" has conflict with protected namespace \"model_\".\n",
      "\n",
      "You may be able to resolve this warning by setting `model_config['protected_namespaces'] = ()`.\n",
      "  warnings.warn(\n",
      "/Users/nargokul/workspace/sagemaker-code-gen/venv/lib/python3.9/site-packages/pydantic/_internal/_fields.py:160: UserWarning: Field \"model_card_version\" has conflict with protected namespace \"model_\".\n",
      "\n",
      "You may be able to resolve this warning by setting `model_config['protected_namespaces'] = ()`.\n",
      "  warnings.warn(\n",
      "/Users/nargokul/workspace/sagemaker-code-gen/venv/lib/python3.9/site-packages/pydantic/_internal/_fields.py:160: UserWarning: Field \"model_card_arn\" has conflict with protected namespace \"model_\".\n",
      "\n",
      "You may be able to resolve this warning by setting `model_config['protected_namespaces'] = ()`.\n",
      "  warnings.warn(\n",
      "/Users/nargokul/workspace/sagemaker-code-gen/venv/lib/python3.9/site-packages/pydantic/_internal/_fields.py:160: UserWarning: Field \"model_card_status\" has conflict with protected namespace \"model_\".\n",
      "\n",
      "You may be able to resolve this warning by setting `model_config['protected_namespaces'] = ()`.\n",
      "  warnings.warn(\n",
      "/Users/nargokul/workspace/sagemaker-code-gen/venv/lib/python3.9/site-packages/pydantic/_internal/_fields.py:160: UserWarning: Field \"model_package_group_arn\" has conflict with protected namespace \"model_\".\n",
      "\n",
      "You may be able to resolve this warning by setting `model_config['protected_namespaces'] = ()`.\n",
      "  warnings.warn(\n",
      "/Users/nargokul/workspace/sagemaker-code-gen/venv/lib/python3.9/site-packages/pydantic/_internal/_fields.py:160: UserWarning: Field \"model_package_group_status\" has conflict with protected namespace \"model_\".\n",
      "\n",
      "You may be able to resolve this warning by setting `model_config['protected_namespaces'] = ()`.\n",
      "  warnings.warn(\n",
      "/Users/nargokul/workspace/sagemaker-code-gen/venv/lib/python3.9/site-packages/pydantic/_internal/_fields.py:160: UserWarning: Field \"model_package_group_description\" has conflict with protected namespace \"model_\".\n",
      "\n",
      "You may be able to resolve this warning by setting `model_config['protected_namespaces'] = ()`.\n",
      "  warnings.warn(\n",
      "/Users/nargokul/workspace/sagemaker-code-gen/venv/lib/python3.9/site-packages/pydantic/_internal/_fields.py:160: UserWarning: Field \"model_arn\" has conflict with protected namespace \"model_\".\n",
      "\n",
      "You may be able to resolve this warning by setting `model_config['protected_namespaces'] = ()`.\n",
      "  warnings.warn(\n",
      "/Users/nargokul/workspace/sagemaker-code-gen/venv/lib/python3.9/site-packages/pydantic/_internal/_fields.py:160: UserWarning: Field \"model_dashboard_indicator\" has conflict with protected namespace \"model_\".\n",
      "\n",
      "You may be able to resolve this warning by setting `model_config['protected_namespaces'] = ()`.\n",
      "  warnings.warn(\n",
      "/Users/nargokul/workspace/sagemaker-code-gen/venv/lib/python3.9/site-packages/pydantic/_internal/_fields.py:160: UserWarning: Field \"model_id\" has conflict with protected namespace \"model_\".\n",
      "\n",
      "You may be able to resolve this warning by setting `model_config['protected_namespaces'] = ()`.\n",
      "  warnings.warn(\n",
      "/Users/nargokul/workspace/sagemaker-code-gen/venv/lib/python3.9/site-packages/pydantic/_internal/_fields.py:160: UserWarning: Field \"model_client_config\" has conflict with protected namespace \"model_\".\n",
      "\n",
      "You may be able to resolve this warning by setting `model_config['protected_namespaces'] = ()`.\n",
      "  warnings.warn(\n",
      "/Users/nargokul/workspace/sagemaker-code-gen/venv/lib/python3.9/site-packages/pydantic/_internal/_fields.py:160: UserWarning: Field \"model_card\" has conflict with protected namespace \"model_\".\n",
      "\n",
      "You may be able to resolve this warning by setting `model_config['protected_namespaces'] = ()`.\n",
      "  warnings.warn(\n",
      "/Users/nargokul/workspace/sagemaker-code-gen/venv/lib/python3.9/site-packages/pydantic/_internal/_fields.py:160: UserWarning: Field \"model_package_status_details\" has conflict with protected namespace \"model_\".\n",
      "\n",
      "You may be able to resolve this warning by setting `model_config['protected_namespaces'] = ()`.\n",
      "  warnings.warn(\n",
      "/Users/nargokul/workspace/sagemaker-code-gen/venv/lib/python3.9/site-packages/pydantic/_internal/_fields.py:160: UserWarning: Field \"model_metrics\" has conflict with protected namespace \"model_\".\n",
      "\n",
      "You may be able to resolve this warning by setting `model_config['protected_namespaces'] = ()`.\n",
      "  warnings.warn(\n",
      "/Users/nargokul/workspace/sagemaker-code-gen/venv/lib/python3.9/site-packages/pydantic/_internal/_fields.py:160: UserWarning: Field \"model_artifacts\" has conflict with protected namespace \"model_\".\n",
      "\n",
      "You may be able to resolve this warning by setting `model_config['protected_namespaces'] = ()`.\n",
      "  warnings.warn(\n",
      "/Users/nargokul/workspace/sagemaker-code-gen/venv/lib/python3.9/site-packages/pydantic/_internal/_fields.py:160: UserWarning: Field \"model_package\" has conflict with protected namespace \"model_\".\n",
      "\n",
      "You may be able to resolve this warning by setting `model_config['protected_namespaces'] = ()`.\n",
      "  warnings.warn(\n",
      "/Users/nargokul/workspace/sagemaker-code-gen/venv/lib/python3.9/site-packages/pydantic/_internal/_fields.py:160: UserWarning: Field \"model_package_group\" has conflict with protected namespace \"model_\".\n",
      "\n",
      "You may be able to resolve this warning by setting `model_config['protected_namespaces'] = ()`.\n",
      "  warnings.warn(\n",
      "/Users/nargokul/workspace/sagemaker-code-gen/venv/lib/python3.9/site-packages/pydantic/_internal/_fields.py:160: UserWarning: Field \"model_stream_error\" has conflict with protected namespace \"model_\".\n",
      "\n",
      "You may be able to resolve this warning by setting `model_config['protected_namespaces'] = ()`.\n",
      "  warnings.warn(\n",
      "/Users/nargokul/workspace/sagemaker-code-gen/venv/lib/python3.9/site-packages/pydantic/_internal/_fields.py:160: UserWarning: Field \"model_deploy_config\" has conflict with protected namespace \"model_\".\n",
      "\n",
      "You may be able to resolve this warning by setting `model_config['protected_namespaces'] = ()`.\n",
      "  warnings.warn(\n",
      "/Users/nargokul/workspace/sagemaker-code-gen/venv/lib/python3.9/site-packages/pydantic/_internal/_fields.py:160: UserWarning: Field \"model_deploy_result\" has conflict with protected namespace \"model_\".\n",
      "\n",
      "You may be able to resolve this warning by setting `model_config['protected_namespaces'] = ()`.\n",
      "  warnings.warn(\n",
      "/Users/nargokul/workspace/sagemaker-code-gen/venv/lib/python3.9/site-packages/pydantic/_internal/_fields.py:160: UserWarning: Field \"model_digests\" has conflict with protected namespace \"model_\".\n",
      "\n",
      "You may be able to resolve this warning by setting `model_config['protected_namespaces'] = ()`.\n",
      "  warnings.warn(\n",
      "/Users/nargokul/workspace/sagemaker-code-gen/venv/lib/python3.9/site-packages/pydantic/_internal/_fields.py:160: UserWarning: Field \"model_configs\" has conflict with protected namespace \"model_\".\n",
      "\n",
      "You may be able to resolve this warning by setting `model_config['protected_namespaces'] = ()`.\n",
      "  warnings.warn(\n",
      "/Users/nargokul/workspace/sagemaker-code-gen/venv/lib/python3.9/site-packages/pydantic/_internal/_fields.py:160: UserWarning: Field \"model_artifact\" has conflict with protected namespace \"model_\".\n",
      "\n",
      "You may be able to resolve this warning by setting `model_config['protected_namespaces'] = ()`.\n",
      "  warnings.warn(\n",
      "/Users/nargokul/workspace/sagemaker-code-gen/venv/lib/python3.9/site-packages/pydantic/_internal/_fields.py:160: UserWarning: Field \"model_signature\" has conflict with protected namespace \"model_\".\n",
      "\n",
      "You may be able to resolve this warning by setting `model_config['protected_namespaces'] = ()`.\n",
      "  warnings.warn(\n",
      "/Users/nargokul/workspace/sagemaker-code-gen/venv/lib/python3.9/site-packages/pydantic/_internal/_fields.py:160: UserWarning: Field \"model_variants\" has conflict with protected namespace \"model_\".\n",
      "\n",
      "You may be able to resolve this warning by setting `model_config['protected_namespaces'] = ()`.\n",
      "  warnings.warn(\n"
     ]
    },
    {
     "name": "stdout",
     "output_type": "stream",
     "text": [
      "key xgboost-iris-02-01-22\n"
     ]
    },
    {
     "name": "stderr",
     "output_type": "stream",
     "text": [
      "/Users/nargokul/workspace/sagemaker-code-gen/venv/lib/python3.9/site-packages/pydantic/_internal/_fields.py:160: UserWarning: Field \"model_bias_app_specification\" has conflict with protected namespace \"model_\".\n",
      "\n",
      "You may be able to resolve this warning by setting `model_config['protected_namespaces'] = ()`.\n",
      "  warnings.warn(\n",
      "/Users/nargokul/workspace/sagemaker-code-gen/venv/lib/python3.9/site-packages/pydantic/_internal/_fields.py:160: UserWarning: Field \"model_bias_job_input\" has conflict with protected namespace \"model_\".\n",
      "\n",
      "You may be able to resolve this warning by setting `model_config['protected_namespaces'] = ()`.\n",
      "  warnings.warn(\n",
      "/Users/nargokul/workspace/sagemaker-code-gen/venv/lib/python3.9/site-packages/pydantic/_internal/_fields.py:160: UserWarning: Field \"model_bias_job_output_config\" has conflict with protected namespace \"model_\".\n",
      "\n",
      "You may be able to resolve this warning by setting `model_config['protected_namespaces'] = ()`.\n",
      "  warnings.warn(\n",
      "/Users/nargokul/workspace/sagemaker-code-gen/venv/lib/python3.9/site-packages/pydantic/_internal/_fields.py:160: UserWarning: Field \"model_bias_baseline_config\" has conflict with protected namespace \"model_\".\n",
      "\n",
      "You may be able to resolve this warning by setting `model_config['protected_namespaces'] = ()`.\n",
      "  warnings.warn(\n",
      "/Users/nargokul/workspace/sagemaker-code-gen/venv/lib/python3.9/site-packages/pydantic/_internal/_fields.py:160: UserWarning: Field \"model_card_processing_status\" has conflict with protected namespace \"model_\".\n",
      "\n",
      "You may be able to resolve this warning by setting `model_config['protected_namespaces'] = ()`.\n",
      "  warnings.warn(\n",
      "/Users/nargokul/workspace/sagemaker-code-gen/venv/lib/python3.9/site-packages/pydantic/_internal/_fields.py:160: UserWarning: Field \"model_explainability_app_specification\" has conflict with protected namespace \"model_\".\n",
      "\n",
      "You may be able to resolve this warning by setting `model_config['protected_namespaces'] = ()`.\n",
      "  warnings.warn(\n",
      "/Users/nargokul/workspace/sagemaker-code-gen/venv/lib/python3.9/site-packages/pydantic/_internal/_fields.py:160: UserWarning: Field \"model_explainability_job_input\" has conflict with protected namespace \"model_\".\n",
      "\n",
      "You may be able to resolve this warning by setting `model_config['protected_namespaces'] = ()`.\n",
      "  warnings.warn(\n",
      "/Users/nargokul/workspace/sagemaker-code-gen/venv/lib/python3.9/site-packages/pydantic/_internal/_fields.py:160: UserWarning: Field \"model_explainability_job_output_config\" has conflict with protected namespace \"model_\".\n",
      "\n",
      "You may be able to resolve this warning by setting `model_config['protected_namespaces'] = ()`.\n",
      "  warnings.warn(\n",
      "/Users/nargokul/workspace/sagemaker-code-gen/venv/lib/python3.9/site-packages/pydantic/_internal/_fields.py:160: UserWarning: Field \"model_explainability_baseline_config\" has conflict with protected namespace \"model_\".\n",
      "\n",
      "You may be able to resolve this warning by setting `model_config['protected_namespaces'] = ()`.\n",
      "  warnings.warn(\n",
      "/Users/nargokul/workspace/sagemaker-code-gen/venv/lib/python3.9/site-packages/pydantic/_internal/_fields.py:160: UserWarning: Field \"model_quality_app_specification\" has conflict with protected namespace \"model_\".\n",
      "\n",
      "You may be able to resolve this warning by setting `model_config['protected_namespaces'] = ()`.\n",
      "  warnings.warn(\n",
      "/Users/nargokul/workspace/sagemaker-code-gen/venv/lib/python3.9/site-packages/pydantic/_internal/_fields.py:160: UserWarning: Field \"model_quality_job_input\" has conflict with protected namespace \"model_\".\n",
      "\n",
      "You may be able to resolve this warning by setting `model_config['protected_namespaces'] = ()`.\n",
      "  warnings.warn(\n",
      "/Users/nargokul/workspace/sagemaker-code-gen/venv/lib/python3.9/site-packages/pydantic/_internal/_fields.py:160: UserWarning: Field \"model_quality_job_output_config\" has conflict with protected namespace \"model_\".\n",
      "\n",
      "You may be able to resolve this warning by setting `model_config['protected_namespaces'] = ()`.\n",
      "  warnings.warn(\n",
      "/Users/nargokul/workspace/sagemaker-code-gen/venv/lib/python3.9/site-packages/pydantic/_internal/_fields.py:160: UserWarning: Field \"model_quality_baseline_config\" has conflict with protected namespace \"model_\".\n",
      "\n",
      "You may be able to resolve this warning by setting `model_config['protected_namespaces'] = ()`.\n",
      "  warnings.warn(\n"
     ]
    }
   ],
   "source": [
    "from src.generated.shapes import ContainerDefinition, ProductionVariant, AsyncInferenceConfig, AsyncInferenceOutputConfig, AsyncInferenceClientConfig\n",
    "# Endpoint Invoking \n",
    "from src.generated.resources import Model, EndpointConfig, Endpoint, TrainingJob\n",
    "from time import gmtime, strftime\n",
    "\n",
    "key = f'xgboost-iris-{strftime(\"%H-%M-%S\", gmtime())}'\n",
    "print(\"key\", key)\n",
    "os.environ['SAGEMAKER_ADMIN_CONFIG_OVERRIDE'] = '/Users/nargokul/workspace/sagemaker-code-gen/sample/sagemaker/2017-07-24/default-configs-inference.json'"
   ],
   "metadata": {
    "collapsed": false,
    "ExecuteTime": {
     "end_time": "2024-05-29T02:01:22.675223Z",
     "start_time": "2024-05-29T02:01:21.213168Z"
    }
   },
   "id": "32eff9aadce99c83"
  },
  {
   "cell_type": "code",
   "execution_count": 4,
   "outputs": [
    {
     "name": "stdout",
     "output_type": "stream",
     "text": [
      "Uploading Model to s3://sagemaker-us-west-2-211125564141/async-inference-demo/demo-xgboost-model.tar.gz\n"
     ]
    },
    {
     "name": "stderr",
     "output_type": "stream",
     "text": [
      "INFO:sagemaker.image_uris:Defaulting to only available Python version: py3\n",
      "INFO:sagemaker.image_uris:Defaulting to only supported image scope: cpu.\n",
      "WARNING:src.generated.intelligent_defaults_helper:Configurable value not entered in parameters or present in the Config\n",
      "WARNING:src.generated.utils:No boto3 session provided. Creating a new session.\n",
      "WARNING:src.generated.utils:No region provided. Using default region.\n",
      "INFO:botocore.credentials:Found credentials in shared credentials file: ~/.aws/credentials\n"
     ]
    },
    {
     "name": "stdout",
     "output_type": "stream",
     "text": [
      "Fetched defaults config from location: %s /Users/nargokul/workspace/sagemaker-code-gen/sample/sagemaker/2017-07-24/default-configs-inference.json\n",
      "Not applying SDK defaults from location: %s /Users/nargokul/Library/Application Support/sagemaker/config.yaml\n",
      "Fetched defaults config from location: %s /Users/nargokul/workspace/sagemaker-code-gen/sample/sagemaker/2017-07-24/default-configs-inference.json\n",
      "Not applying SDK defaults from location: %s /Users/nargokul/Library/Application Support/sagemaker/config.yaml\n",
      "{'CreationTime': datetime.datetime(2024, 5, 28, 19, 1, 23, 759000, tzinfo=tzlocal()),\n",
      " 'EnableNetworkIsolation': False,\n",
      " 'ExecutionRoleArn': 'arn:aws:iam::211125564141:role/Admin',\n",
      " 'ModelArn': 'arn:aws:sagemaker:us-west-2:211125564141:model/xgboost-iris-02-01-22',\n",
      " 'ModelName': 'xgboost-iris-02-01-22',\n",
      " 'PrimaryContainer': {'Image': '246618743249.dkr.ecr.us-west-2.amazonaws.com/sagemaker-xgboost:0.90-1-cpu-py3',\n",
      "                      'Mode': 'SingleModel',\n",
      "                      'ModelDataSource': {'S3DataSource': {'CompressionType': 'Gzip',\n",
      "                                                           'S3DataType': 'S3Object',\n",
      "                                                           'S3Uri': 's3://sagemaker-us-west-2-211125564141/async-inference-demo/demo-xgboost-model.tar.gz'}},\n",
      "                      'ModelDataUrl': 's3://sagemaker-us-west-2-211125564141/async-inference-demo/demo-xgboost-model.tar.gz'},\n",
      " 'ResponseMetadata': {'HTTPHeaders': {'content-length': '653',\n",
      "                                      'content-type': 'application/x-amz-json-1.1',\n",
      "                                      'date': 'Wed, 29 May 2024 02:01:23 GMT',\n",
      "                                      'x-amzn-requestid': 'c2a011f7-5e5f-4a16-b88e-3e4b015f4377'},\n",
      "                      'HTTPStatusCode': 200,\n",
      "                      'RequestId': 'c2a011f7-5e5f-4a16-b88e-3e4b015f4377',\n",
      "                      'RetryAttempts': 0}}\n"
     ]
    }
   ],
   "source": [
    "bucket_prefix = \"async-inference-demo\"\n",
    "resource_name = \"AsyncInferenceDemo-{}-{}\"\n",
    "\n",
    "model_s3_key = f\"{bucket_prefix}/demo-xgboost-model.tar.gz\"\n",
    "model_url = f\"s3://{s3_bucket}/{model_s3_key}\"\n",
    "print(f\"Uploading Model to {model_url}\")\n",
    "\n",
    "with open(\"model/demo-xgboost-model.tar.gz\", \"rb\") as model_file:\n",
    "    boto_session.resource(\"s3\").Bucket(s3_bucket).Object(model_s3_key).upload_fileobj(model_file)\n",
    "\n",
    "\n",
    "from sagemaker import image_uris\n",
    "\n",
    "# Specify an AWS container image and region as desired\n",
    "container = image_uris.retrieve(region=region, framework=\"xgboost\", version=\"0.90-1\")\n",
    "\n",
    "model = Model.create(\n",
    "    model_name=key,\n",
    "    primary_container=ContainerDefinition(\n",
    "        image=container,\n",
    "        model_data_url=f\"s3://{s3_bucket}/{model_s3_key}\"\n",
    "    ),\n",
    "    execution_role_arn=role,\n",
    ")"
   ],
   "metadata": {
    "collapsed": false,
    "ExecuteTime": {
     "end_time": "2024-05-29T02:01:23.976850Z",
     "start_time": "2024-05-29T02:01:22.677356Z"
    }
   },
   "id": "e300bc27e3238a1a"
  },
  {
   "cell_type": "code",
   "execution_count": 5,
   "outputs": [
    {
     "name": "stderr",
     "output_type": "stream",
     "text": [
      "WARNING:src.generated.intelligent_defaults_helper:Configurable value not entered in parameters or present in the Config\n",
      "WARNING:src.generated.intelligent_defaults_helper:Configurable value not entered in parameters or present in the Config\n",
      "WARNING:src.generated.intelligent_defaults_helper:Configurable value not entered in parameters or present in the Config\n",
      "WARNING:src.generated.intelligent_defaults_helper:Configurable value not entered in parameters or present in the Config\n"
     ]
    },
    {
     "name": "stdout",
     "output_type": "stream",
     "text": [
      "Fetched defaults config from location: %s /Users/nargokul/workspace/sagemaker-code-gen/sample/sagemaker/2017-07-24/default-configs-inference.json\n",
      "Not applying SDK defaults from location: %s /Users/nargokul/Library/Application Support/sagemaker/config.yaml\n",
      "{'AsyncInferenceConfig': {'ClientConfig': {'MaxConcurrentInvocationsPerInstance': 4},\n",
      "                          'OutputConfig': {'S3OutputPath': 's3://sagemaker-us-west-2-211125564141/async-inference-demo/output'}},\n",
      " 'CreationTime': datetime.datetime(2024, 5, 28, 19, 1, 24, 285000, tzinfo=tzlocal()),\n",
      " 'EnableNetworkIsolation': False,\n",
      " 'EndpointConfigArn': 'arn:aws:sagemaker:us-west-2:211125564141:endpoint-config/xgboost-iris-02-01-22',\n",
      " 'EndpointConfigName': 'xgboost-iris-02-01-22',\n",
      " 'ProductionVariants': [{'InitialInstanceCount': 1,\n",
      "                         'InitialVariantWeight': 1.0,\n",
      "                         'InstanceType': 'ml.m5.xlarge',\n",
      "                         'ModelName': 'xgboost-iris-02-01-22',\n",
      "                         'VariantName': 'variant1'}],\n",
      " 'ResponseMetadata': {'HTTPHeaders': {'content-length': '560',\n",
      "                                      'content-type': 'application/x-amz-json-1.1',\n",
      "                                      'date': 'Wed, 29 May 2024 02:01:24 GMT',\n",
      "                                      'x-amzn-requestid': '7e7290ad-ee5c-4e26-9353-be88a2546af9'},\n",
      "                      'HTTPStatusCode': 200,\n",
      "                      'RequestId': '7e7290ad-ee5c-4e26-9353-be88a2546af9',\n",
      "                      'RetryAttempts': 0}}\n"
     ]
    }
   ],
   "source": [
    "from datetime import datetime\n",
    "\n",
    "\n",
    "endpoint_config = EndpointConfig.create(\n",
    "    endpoint_config_name=key,\n",
    "    production_variants=[\n",
    "        ProductionVariant(\n",
    "            variant_name=\"variant1\",\n",
    "            model_name=key,\n",
    "            instance_type='ml.m5.xlarge',\n",
    "            initial_instance_count=1\n",
    "        )\n",
    "    ],\n",
    "    async_inference_config=AsyncInferenceConfig(\n",
    "        output_config=AsyncInferenceOutputConfig(s3_output_path=f\"s3://{s3_bucket}/{bucket_prefix}/output\"),\n",
    "        client_config=AsyncInferenceClientConfig(\n",
    "            max_concurrent_invocations_per_instance=4\n",
    "        )\n",
    "    )\n",
    ")\n"
   ],
   "metadata": {
    "collapsed": false,
    "ExecuteTime": {
     "end_time": "2024-05-29T02:01:24.369449Z",
     "start_time": "2024-05-29T02:01:23.976409Z"
    }
   },
   "id": "93dd16bbbb11f0b4"
  },
  {
   "cell_type": "code",
   "execution_count": 6,
   "outputs": [
    {
     "name": "stderr",
     "output_type": "stream",
     "text": [
      "WARNING:src.generated.intelligent_defaults_helper:Configurable value not entered in parameters or present in the Config\n",
      "WARNING:src.generated.intelligent_defaults_helper:Configurable value not entered in parameters or present in the Config\n"
     ]
    },
    {
     "name": "stdout",
     "output_type": "stream",
     "text": [
      "Fetched defaults config from location: %s /Users/nargokul/workspace/sagemaker-code-gen/sample/sagemaker/2017-07-24/default-configs-inference.json\n",
      "Not applying SDK defaults from location: %s /Users/nargokul/Library/Application Support/sagemaker/config.yaml\n",
      "{'AsyncInferenceConfig': {'ClientConfig': {'MaxConcurrentInvocationsPerInstance': 4},\n",
      "                          'OutputConfig': {'S3OutputPath': 's3://sagemaker-us-west-2-211125564141/async-inference-demo/output'}},\n",
      " 'CreationTime': datetime.datetime(2024, 5, 28, 19, 1, 24, 770000, tzinfo=tzlocal()),\n",
      " 'EndpointArn': 'arn:aws:sagemaker:us-west-2:211125564141:endpoint/xgboost-iris-02-01-22',\n",
      " 'EndpointConfigName': 'xgboost-iris-02-01-22',\n",
      " 'EndpointName': 'xgboost-iris-02-01-22',\n",
      " 'EndpointStatus': 'Creating',\n",
      " 'LastModifiedTime': datetime.datetime(2024, 5, 28, 19, 1, 24, 770000, tzinfo=tzlocal()),\n",
      " 'ResponseMetadata': {'HTTPHeaders': {'content-length': '449',\n",
      "                                      'content-type': 'application/x-amz-json-1.1',\n",
      "                                      'date': 'Wed, 29 May 2024 02:01:24 GMT',\n",
      "                                      'x-amzn-requestid': 'ab6e1935-1842-4cfb-9142-da2b1e3012b6'},\n",
      "                      'HTTPStatusCode': 200,\n",
      "                      'RequestId': 'ab6e1935-1842-4cfb-9142-da2b1e3012b6',\n",
      "                      'RetryAttempts': 0}}\n"
     ]
    }
   ],
   "source": [
    "endpoint = Endpoint.create(endpoint_name=key, endpoint_config_name=key)"
   ],
   "metadata": {
    "collapsed": false,
    "ExecuteTime": {
     "end_time": "2024-05-29T02:01:24.934588Z",
     "start_time": "2024-05-29T02:01:24.366851Z"
    }
   },
   "id": "e8ced8404690c3e4"
  },
  {
   "cell_type": "code",
   "execution_count": 6,
   "outputs": [],
   "source": [],
   "metadata": {
    "collapsed": false,
    "ExecuteTime": {
     "end_time": "2024-05-29T02:01:24.945738Z",
     "start_time": "2024-05-29T02:01:24.931284Z"
    }
   },
   "id": "a0dca2ab3f9d3eee"
  },
  {
   "cell_type": "code",
   "execution_count": 7,
   "outputs": [],
   "source": [
    "def upload_file(input_location):\n",
    "    prefix = f\"{bucket_prefix}/input\"\n",
    "    return sm_session.upload_data(\n",
    "        input_location,\n",
    "        bucket=sm_session.default_bucket(),\n",
    "        key_prefix=prefix,\n",
    "        extra_args={\"ContentType\": \"text/libsvm\"},\n",
    "    )\n",
    "\n",
    "input_1_location = \"input/test_point_0.libsvm\"\n",
    "input_1_s3_location = upload_file(input_1_location)\n",
    "\n"
   ],
   "metadata": {
    "collapsed": false,
    "ExecuteTime": {
     "end_time": "2024-05-29T02:01:25.076899Z",
     "start_time": "2024-05-29T02:01:24.941037Z"
    }
   },
   "id": "9bccaeb794c8de79"
  },
  {
   "cell_type": "code",
   "execution_count": 9,
   "outputs": [
    {
     "name": "stderr",
     "output_type": "stream",
     "text": [
      "WARNING:src.generated.utils:No boto3 session provided. Creating a new session.\n",
      "WARNING:src.generated.utils:No region provided. Using default region.\n",
      "INFO:botocore.credentials:Found credentials in shared credentials file: ~/.aws/credentials\n"
     ]
    },
    {
     "name": "stdout",
     "output_type": "stream",
     "text": [
      "{'AsyncInferenceConfig': {'ClientConfig': {'MaxConcurrentInvocationsPerInstance': 4},\n",
      "                          'OutputConfig': {'S3OutputPath': 's3://sagemaker-us-west-2-211125564141/async-inference-demo/output'}},\n",
      " 'CreationTime': datetime.datetime(2024, 5, 28, 19, 1, 24, 770000, tzinfo=tzlocal()),\n",
      " 'EndpointArn': 'arn:aws:sagemaker:us-west-2:211125564141:endpoint/xgboost-iris-02-01-22',\n",
      " 'EndpointConfigName': 'xgboost-iris-02-01-22',\n",
      " 'EndpointName': 'xgboost-iris-02-01-22',\n",
      " 'EndpointStatus': 'InService',\n",
      " 'LastModifiedTime': datetime.datetime(2024, 5, 28, 19, 3, 59, 129000, tzinfo=tzlocal()),\n",
      " 'ProductionVariants': [{'CurrentInstanceCount': 1,\n",
      "                         'CurrentWeight': 1.0,\n",
      "                         'DeployedImages': [{'ResolutionTime': datetime.datetime(2024, 5, 28, 19, 1, 25, 314000, tzinfo=tzlocal()),\n",
      "                                             'ResolvedImage': '246618743249.dkr.ecr.us-west-2.amazonaws.com/sagemaker-xgboost@sha256:4814427c3e0a6cf99e637704da3ada04219ac7cd5727ff62284153761d36d7d3',\n",
      "                                             'SpecifiedImage': '246618743249.dkr.ecr.us-west-2.amazonaws.com/sagemaker-xgboost:0.90-1-cpu-py3'}],\n",
      "                         'DesiredInstanceCount': 1,\n",
      "                         'DesiredWeight': 1.0,\n",
      "                         'VariantName': 'variant1'}],\n",
      " 'ResponseMetadata': {'HTTPHeaders': {'content-length': '896',\n",
      "                                      'content-type': 'application/x-amz-json-1.1',\n",
      "                                      'date': 'Wed, 29 May 2024 02:07:29 GMT',\n",
      "                                      'x-amzn-requestid': '0e5134c2-75e4-49a0-9838-9b8d9a33540a'},\n",
      "                      'HTTPStatusCode': 200,\n",
      "                      'RequestId': '0e5134c2-75e4-49a0-9838-9b8d9a33540a',\n",
      "                      'RetryAttempts': 0}}\n"
     ]
    }
   ],
   "source": [
    "endpoint = Endpoint.get(endpoint_name=key)\n",
    "response= endpoint.invoke_async(input_location=input_1_s3_location)"
   ],
   "metadata": {
    "collapsed": false,
    "ExecuteTime": {
     "end_time": "2024-05-29T02:07:29.907783Z",
     "start_time": "2024-05-29T02:07:29.205913Z"
    }
   },
   "id": "6927f56e5d3df918"
  },
  {
   "cell_type": "code",
   "execution_count": null,
   "outputs": [],
   "source": [],
   "metadata": {
    "collapsed": false
   },
   "id": "3199289be9a99072"
  }
 ],
 "metadata": {
  "kernelspec": {
   "display_name": "Python 3",
   "language": "python",
   "name": "python3"
  },
  "language_info": {
   "codemirror_mode": {
    "name": "ipython",
    "version": 2
   },
   "file_extension": ".py",
   "mimetype": "text/x-python",
   "name": "python",
   "nbconvert_exporter": "python",
   "pygments_lexer": "ipython2",
   "version": "2.7.6"
  }
 },
 "nbformat": 4,
 "nbformat_minor": 5
}
